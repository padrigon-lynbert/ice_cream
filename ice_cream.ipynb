{
 "cells": [
  {
   "cell_type": "code",
   "execution_count": null,
   "metadata": {},
   "outputs": [],
   "source": [
    "import os\n",
    "import pandas as pd\n",
    "\n",
    "# current_dir = os.path.dirname()\n",
    "current_directory = os.getcwd()\n",
    "\n",
    "df = pd.DataFrame(pd.read_csv(os.path.join(current_directory, 'Ice Cream.csv')))\n",
    "df.head()\n",
    "current_directory"
   ]
  },
  {
   "cell_type": "code",
   "execution_count": 243,
   "metadata": {},
   "outputs": [],
   "source": [
    "from sklearn.model_selection import train_test_split\n",
    "\n",
    "X = df['Temperature']\n",
    "y = df['Revenue']\n",
    "\n",
    "X_test, X_train, y_test, y_train = train_test_split(X, y, test_size=0.2, random_state=42)"
   ]
  },
  {
   "cell_type": "code",
   "execution_count": 244,
   "metadata": {},
   "outputs": [],
   "source": [
    "from sklearn.preprocessing import StandardScaler\n",
    "import numpy as np\n",
    "\n",
    "# X_train = pd.DataFrame(X_train)\n",
    "scaler = StandardScaler()\n",
    "\n",
    "X_train = X_train.values.reshape(-1, 1)\n",
    "X_test = X_test.values.reshape(-1, 1)\n",
    "\n",
    "X_train_scaled = scaler.fit_transform(X_train)\n",
    "X_test_scaled = scaler.transform(X_test)"
   ]
  },
  {
   "cell_type": "code",
   "execution_count": 245,
   "metadata": {},
   "outputs": [],
   "source": [
    "from sklearn.ensemble import RandomForestRegressor\n",
    "model = RandomForestRegressor(n_estimators=100, random_state=42)\n",
    "model.fit(X_train_scaled, y_train)\n",
    "pred = model.predict(X_test_scaled)"
   ]
  },
  {
   "cell_type": "code",
   "execution_count": 246,
   "metadata": {},
   "outputs": [
    {
     "data": {
      "text/plain": [
       "(1100.0180417242352, 33.16651989166538, 0.9647661985994558)"
      ]
     },
     "execution_count": 246,
     "metadata": {},
     "output_type": "execute_result"
    }
   ],
   "source": [
    "from sklearn.metrics import mean_squared_error, r2_score\n",
    "mse = mean_squared_error(y_test, pred)\n",
    "rmse = np.sqrt(mse)\n",
    "r2 = r2_score(y_test, pred)\n",
    "\n",
    "mse, rmse, r2"
   ]
  },
  {
   "cell_type": "code",
   "execution_count": 247,
   "metadata": {},
   "outputs": [
    {
     "name": "stdout",
     "output_type": "stream",
     "text": [
      "Cross-Validation MSE: 1089.6782 ± 287.1400\n",
      "Cross-Validation R²: 0.9599 ± 0.0123\n",
      "Test MSE: 1100.0180\n",
      "Test RMSE: 33.1665\n",
      "Test R²: 0.9648\n"
     ]
    }
   ],
   "source": [
    "from sklearn.model_selection import KFold, cross_val_score\n",
    "\n",
    "model_cross_validated = RandomForestRegressor(n_estimators=100, random_state=42)\n",
    "model_cross_validated.fit(X_train_scaled, y_train)\n",
    "y_pred_cross_validated = model_cross_validated.predict(X_test_scaled)\n",
    "\n",
    "kf = KFold(n_splits=5, shuffle=True, random_state=42)\n",
    "cross_val_mse = cross_val_score(model_cross_validated, X_train_scaled, y_train, cv=kf, scoring='neg_mean_squared_error')\n",
    "cross_val_r2 = cross_val_score(model_cross_validated, X_train_scaled, y_train, cv=kf, scoring='r2')\n",
    "\n",
    "mean_cross_val_mse = -cross_val_mse.mean()\n",
    "std_cross_val_mse = cross_val_mse.std()\n",
    "mean_cross_val_r2 = cross_val_r2.mean()\n",
    "std_cross_val_r2 = cross_val_r2.std()\n",
    "\n",
    "model_cross_validated.fit(X_train_scaled, y_train)\n",
    "y_pred_cross_validated = model_cross_validated.predict(X_test_scaled)\n",
    "\n",
    "mse_rf = mean_squared_error(y_test, y_pred_cross_validated)\n",
    "rmse_rf = np.sqrt(mse_rf)\n",
    "r2_rf = r2_score(y_test, y_pred_cross_validated)\n",
    "\n",
    "print(f'Cross-Validation MSE: {mean_cross_val_mse:.4f} ± {std_cross_val_mse:.4f}')\n",
    "print(f'Cross-Validation R²: {mean_cross_val_r2:.4f} ± {std_cross_val_r2:.4f}')\n",
    "print(f'Test MSE: {mse_rf:.4f}')\n",
    "print(f'Test RMSE: {rmse_rf:.4f}')\n",
    "print(f'Test R²: {r2_rf:.4f}')"
   ]
  },
  {
   "cell_type": "code",
   "execution_count": null,
   "metadata": {},
   "outputs": [],
   "source": [
    "import matplotlib.pyplot as plt\n",
    "y_train_predicted = model_cross_validated.predict(X_train_scaled)\n",
    "\n",
    "plt.scatter(y_train, y_train_predicted, color='green', alpha=0.4, edgecolors='g', label='Training Data')\n",
    "plt.plot(y_train_predicted, y_train_predicted, linestyle='--', color='b', label='Training Prediction Trend')\n",
    "plt.legend()"
   ]
  },
  {
   "cell_type": "code",
   "execution_count": null,
   "metadata": {},
   "outputs": [],
   "source": [
    "plt.scatter(y_test, y_pred_cross_validated, color='r', alpha=0.2, edgecolors='b', label='test input')\n",
    "plt.plot(y_test, y_pred_cross_validated, linestyle='--', color='b', alpha=0.4, label='Test Prediction Trend')\n",
    "plt.legend()\n"
   ]
  }
 ],
 "metadata": {
  "kernelspec": {
   "display_name": "base",
   "language": "python",
   "name": "python3"
  },
  "language_info": {
   "codemirror_mode": {
    "name": "ipython",
    "version": 3
   },
   "file_extension": ".py",
   "mimetype": "text/x-python",
   "name": "python",
   "nbconvert_exporter": "python",
   "pygments_lexer": "ipython3",
   "version": "3.11.5"
  }
 },
 "nbformat": 4,
 "nbformat_minor": 2
}
